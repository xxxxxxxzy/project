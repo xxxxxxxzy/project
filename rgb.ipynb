{
 "cells": [
  {
   "cell_type": "code",
   "execution_count": 1,
   "id": "185e6226",
   "metadata": {},
   "outputs": [],
   "source": [
    "import numpy as np\n",
    "import igl\n",
    "from scipy.sparse.linalg import spsolve\n",
    "import meshplot as mp\n",
    "from meshplot import plot, subplot, interact"
   ]
  },
  {
   "cell_type": "code",
   "execution_count": 2,
   "id": "2bcee5c0",
   "metadata": {},
   "outputs": [
    {
     "data": {
      "text/plain": [
       "'\\ninter = list(set(v1_ind)&set(v2_ind))\\n            \\nU1_delta = U1-U1_tilde\\nU2_delta = U2-U2_tilde\\n    \\n\\nterm1 = np.zeros((p,3))\\nfor i in range (0,len(v1_ind)):\\n    term1[v1_ind[i]] = U1_delta[i]\\n\\nterm2 = np.zeros((p,3))\\nfor i in range (0,len(v2_ind)):\\n    term2[v2_ind[i]] = U2_delta[i]\\n\\n\\nterm = term1**2 + term2**2\\n\\nfor i in inter:\\n    term[i] = term[i]/2\\n\\nR = term[:,0]\\nG = term[:,1]\\nB = term[:,2]\\n\\n'"
      ]
     },
     "execution_count": 2,
     "metadata": {},
     "output_type": "execute_result"
    }
   ],
   "source": [
    "back = '/Users/xuzhaoyang/Desktop/back.off'\n",
    "back1 = '/Users/xuzhaoyang/Desktop/back1.off'\n",
    "back2 = '/Users/xuzhaoyang/Desktop/back2.off'\n",
    "\n",
    "'''\n",
    "def read_off(path):\n",
    "    \n",
    "\n",
    "    Parameters\n",
    "    ----------\n",
    "    path : path\n",
    "        file.off\n",
    "\n",
    "    Returns\n",
    "    -------\n",
    "    U : array\n",
    "        rgb array of whole patch\n",
    "    U_tilde : array\n",
    "        random change 5% rgb of whole patch\n",
    "\n",
    "    \n",
    "\n",
    "    with open(path, 'r') as f:\n",
    "        a = f.read().split()\n",
    "        b = a[4:] # remove 'COFF' and other lines\n",
    "        \n",
    "        # list to array\n",
    "        file_float = []\n",
    "        for num in b:\n",
    "            file_float.append(float(num))\n",
    "        c = np.array(file_float)\n",
    "        d = c.reshape(-1,7)\n",
    "        \n",
    "        # only keep rgb lines, remove the index of vertex lines\n",
    "        ind = list(d[:,0]).index(3)\n",
    "        vertex = d[0:ind,0:3]\n",
    "        rgba = d[0:ind,3:7] # include alpha, RGBA\n",
    "        U = d[0:ind,3:6]\n",
    "        \n",
    "        p,d = U.shape # p = n, d = 3\n",
    "        \n",
    "        # randomly choose 5% from the whole patch, and change them\n",
    "        ran_index = np.random.random_integers(0,p-1,size = int(p*0.05))\n",
    "        U_tilde = U\n",
    "        for i in ran_index:\n",
    "            U_tilde[i] = np.random.random_integers(1,255,size=3)\n",
    "            \n",
    "    return vertex,U,U_tilde\n",
    "'''\n",
    "\n",
    "def read_off(path):\n",
    "\n",
    "    with open(path, 'r') as f:\n",
    "        a = f.read().split()\n",
    "        b = a[4:] # remove 'COFF' and other lines\n",
    "        \n",
    "        # list to array\n",
    "        file_float = []\n",
    "        for num in b:\n",
    "            file_float.append(float(num))\n",
    "        c = np.array(file_float)\n",
    "        d = c.reshape(-1,7)\n",
    "        \n",
    "        # only keep rgb lines, remove the index of vertex lines\n",
    "        ind = list(d[:,0]).index(3)\n",
    "        vertex = d[0:ind,0:3]\n",
    "        U = d[0:ind,3:6]\n",
    "        \n",
    "            \n",
    "    return vertex,U\n",
    "\n",
    "V1,U1 = read_off(back1)\n",
    "V2,U2 = read_off(back2)\n",
    "V,U = read_off(back)\n",
    "\n",
    "p1,_ = V1.shape\n",
    "p2,_ = V2.shape\n",
    "p,_ = V.shape\n",
    "\n",
    "v1_ind = []\n",
    "\n",
    "for i in range(0,p1):\n",
    "    for j in range(0,p):\n",
    "        if np.all(V1[i] == V[j]):\n",
    "            v1_ind.append(j)\n",
    "            #print(j)\n",
    "            break\n",
    "#print(v1_ind)\n",
    "\n",
    "v2_ind = []\n",
    "test = []\n",
    "for i in range(0,p2):\n",
    "    for j in range(0,p):\n",
    "        if np.all(V2[i] == V[j]):\n",
    "            #print(i)\n",
    "            test.append(i)\n",
    "            v2_ind.append(j)\n",
    "            #print(j)\n",
    "            break\n",
    "\n",
    "#print(v2_ind)\n",
    "\n",
    "#V2[786]\n",
    "\n",
    "'''\n",
    "inter = list(set(v1_ind)&set(v2_ind))\n",
    "            \n",
    "U1_delta = U1-U1_tilde\n",
    "U2_delta = U2-U2_tilde\n",
    "    \n",
    "\n",
    "term1 = np.zeros((p,3))\n",
    "for i in range (0,len(v1_ind)):\n",
    "    term1[v1_ind[i]] = U1_delta[i]\n",
    "\n",
    "term2 = np.zeros((p,3))\n",
    "for i in range (0,len(v2_ind)):\n",
    "    term2[v2_ind[i]] = U2_delta[i]\n",
    "\n",
    "\n",
    "term = term1**2 + term2**2\n",
    "\n",
    "for i in inter:\n",
    "    term[i] = term[i]/2\n",
    "\n",
    "R = term[:,0]\n",
    "G = term[:,1]\n",
    "B = term[:,2]\n",
    "\n",
    "'''"
   ]
  },
  {
   "cell_type": "code",
   "execution_count": 3,
   "id": "db238e05",
   "metadata": {},
   "outputs": [],
   "source": [
    "v,f = igl.read_triangle_mesh(back)\n",
    "L0 = igl.cotmatrix(v, f)\n",
    "lamda = 0.01\n",
    "L1 = 0.01*L0\n",
    "L2 = 1*L0\n",
    "L3 = 10*L0\n",
    "L4 = 100*L0"
   ]
  },
  {
   "cell_type": "code",
   "execution_count": 4,
   "id": "1102f694",
   "metadata": {},
   "outputs": [],
   "source": [
    "#insect = '/Users/xuzhaoyang/Desktop/graphosoma/Graphosoma.obj'\n",
    "\n",
    "## Construct Laplacian and mass matrix\n",
    "'''\n",
    "R1 = U1_tilde[:,0]\n",
    "G1 = U1_tilde[:,1]\n",
    "B1 = U1_tilde[:,2]\n",
    "\n",
    "R2 = U2_tilde[:,0]\n",
    "G2 = U2_tilde[:,1]\n",
    "B2 = U2_tilde[:,2]\n",
    "'''\n",
    "R1 = U1[:,0]*0.5\n",
    "G1 = U1[:,1]*0.5\n",
    "B1 = U1[:,2]*0.5\n",
    "\n",
    "R2 = U2[:,0]\n",
    "G2 = U2[:,1]\n",
    "B2 = U2[:,2]\n",
    "\n",
    "X_1 = np.zeros((p,p))\n",
    "for i in v1_ind:\n",
    "    X_1[i][i]=1\n",
    "    \n",
    "X_2 = np.zeros((p,p))\n",
    "for i in v2_ind:\n",
    "    X_2[i][i]=1\n",
    "    \n",
    "X_all = X_1+X_2\n",
    "\n",
    "def b(RGB1,RGB2,v1_ind,v2_ind,p1,p2):\n",
    "    \n",
    "    X_u1 = np.zeros((p,p))\n",
    "    for i in range(0,p1):\n",
    "        ind = v1_ind[i]\n",
    "        X_u1[ind][ind] = RGB1[i]\n",
    "        \n",
    "    X_u2 = np.zeros((p,p))\n",
    "    for i in range(0,p2):\n",
    "        indd = v2_ind[i]\n",
    "        X_u2[indd][indd] = RGB2[i]\n",
    "    \n",
    "    Xu = X_u1+X_u2\n",
    "    b_uv = np.zeros(p)\n",
    "    for i in range(0,p):\n",
    "        b_uv[i] = Xu[i][i]\n",
    "    \n",
    "    return b_uv\n",
    "\n",
    "R_all = b(R1,R2,v1_ind,v2_ind,p1,p2)\n",
    "G_all = b(G1,G2,v1_ind,v2_ind,p1,p2)\n",
    "B_all = b(B1,B2,v1_ind,v2_ind,p1,p2)\n",
    "    \n",
    "RGB = np.vstack([R_all,G_all,B_all]).T\n",
    "A1 = X_all - L1\n",
    "A2 = X_all - L2\n",
    "A3 = X_all - L3\n",
    "A4 = X_all - L4\n",
    "x1 = np.linalg.solve(A1,RGB)\n",
    "x2 = np.linalg.solve(A2,RGB)\n",
    "x3 = np.linalg.solve(A3,RGB)\n",
    "x4 = np.linalg.solve(A4,RGB)"
   ]
  },
  {
   "cell_type": "code",
   "execution_count": 5,
   "id": "f3d0c912",
   "metadata": {
    "scrolled": true
   },
   "outputs": [],
   "source": [
    "#print(x)"
   ]
  },
  {
   "cell_type": "code",
   "execution_count": 6,
   "id": "b5aa2868",
   "metadata": {},
   "outputs": [],
   "source": [
    "#print(U)"
   ]
  },
  {
   "cell_type": "code",
   "execution_count": 7,
   "id": "f7e7bcd4",
   "metadata": {},
   "outputs": [
    {
     "data": {
      "text/plain": [
       "\"\\ndef read_off(path):\\n\\n    with open(path, 'r') as f:\\n        a = f.read().split()\\n        b = a[4:] # remove 'COFF' and other lines\\n        \\n        # list to array\\n        file_float = []\\n        for num in b:\\n            file_float.append(float(num))\\n        c = np.array(file_float)\\n        d = c.reshape(-1,7)\\n        \\n        # only keep rgb lines, remove the index of vertex lines\\n        ind = list(d[:,0]).index(3)\\n        vertex = d[0:ind,0:3]\\n        U = d[0:ind,3:6]\\n        \\n            \\n    return vertex,U\\n    \""
      ]
     },
     "execution_count": 7,
     "metadata": {},
     "output_type": "execute_result"
    }
   ],
   "source": [
    "'''\n",
    "def read_off(path):\n",
    "\n",
    "    with open(path, 'r') as f:\n",
    "        a = f.read().split()\n",
    "        b = a[4:] # remove 'COFF' and other lines\n",
    "        \n",
    "        # list to array\n",
    "        file_float = []\n",
    "        for num in b:\n",
    "            file_float.append(float(num))\n",
    "        c = np.array(file_float)\n",
    "        d = c.reshape(-1,7)\n",
    "        \n",
    "        # only keep rgb lines, remove the index of vertex lines\n",
    "        ind = list(d[:,0]).index(3)\n",
    "        vertex = d[0:ind,0:3]\n",
    "        U = d[0:ind,3:6]\n",
    "        \n",
    "            \n",
    "    return vertex,U\n",
    "    '''"
   ]
  },
  {
   "cell_type": "code",
   "execution_count": 8,
   "id": "7648d16f",
   "metadata": {},
   "outputs": [],
   "source": [
    "_,U=read_off(back)"
   ]
  },
  {
   "cell_type": "code",
   "execution_count": 9,
   "id": "55424497",
   "metadata": {},
   "outputs": [
    {
     "data": {
      "application/vnd.jupyter.widget-view+json": {
       "model_id": "48760c5fe82b494bb8d5e72b7fdb218c",
       "version_major": 2,
       "version_minor": 0
      },
      "text/plain": [
       "HBox(children=(Output(), Output()))"
      ]
     },
     "metadata": {},
     "output_type": "display_data"
    },
    {
     "data": {
      "application/vnd.jupyter.widget-view+json": {
       "model_id": "33c32c49b8e14ac8af86f1d3845c5a6d",
       "version_major": 2,
       "version_minor": 0
      },
      "text/plain": [
       "HBox(children=(Output(), Output()))"
      ]
     },
     "metadata": {},
     "output_type": "display_data"
    },
    {
     "data": {
      "application/vnd.jupyter.widget-view+json": {
       "model_id": "5ee6f31aad854892bf6cd3a9ba142e1d",
       "version_major": 2,
       "version_minor": 0
      },
      "text/plain": [
       "HBox(children=(Output(), Output()))"
      ]
     },
     "metadata": {},
     "output_type": "display_data"
    }
   ],
   "source": [
    "d = mp.subplot(v, f, c=v[:, 1], s=[3, 2, 0])\n",
    "mp.subplot(v, f, c=(U/255), s=[3, 2, 1], data=d)\n",
    "mp.subplot(v, f, c=(x1/255), s=[3, 2, 2], data=d)\n",
    "mp.subplot(v, f, c=(x2/255), s=[3, 2, 3], data=d)\n",
    "mp.subplot(v, f, c=(x3/255), s=[3, 2, 4], data=d)\n",
    "mp.subplot(v, f, c=(x4/255), s=[3, 2, 5], data=d)"
   ]
  },
  {
   "cell_type": "code",
   "execution_count": null,
   "id": "baa7254d",
   "metadata": {
    "scrolled": true
   },
   "outputs": [],
   "source": []
  },
  {
   "cell_type": "code",
   "execution_count": null,
   "id": "7debe9ad",
   "metadata": {},
   "outputs": [],
   "source": []
  }
 ],
 "metadata": {
  "kernelspec": {
   "display_name": "Python 3",
   "language": "python",
   "name": "python3"
  },
  "language_info": {
   "codemirror_mode": {
    "name": "ipython",
    "version": 3
   },
   "file_extension": ".py",
   "mimetype": "text/x-python",
   "name": "python",
   "nbconvert_exporter": "python",
   "pygments_lexer": "ipython3",
   "version": "3.8.8"
  }
 },
 "nbformat": 4,
 "nbformat_minor": 5
}

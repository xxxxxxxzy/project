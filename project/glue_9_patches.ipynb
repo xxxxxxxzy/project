{
 "cells": [
  {
   "cell_type": "code",
   "execution_count": 1,
   "id": "cdc04313",
   "metadata": {},
   "outputs": [],
   "source": [
    "import numpy as np\n",
    "import igl\n",
    "from scipy.sparse.linalg import spsolve\n",
    "import meshplot as mp\n",
    "from meshplot import plot, subplot, interact\n",
    "from scipy.sparse.linalg import spsolve"
   ]
  },
  {
   "cell_type": "code",
   "execution_count": 27,
   "id": "60c14093",
   "metadata": {},
   "outputs": [],
   "source": [
    "whole = '/Users/xuzhaoyang/Desktop/patch_off/whole1.off'\n",
    "patch1 = '/Users/xuzhaoyang/Desktop/patch_off/Graphosoma_patch_1.off'\n",
    "patch2 = '/Users/xuzhaoyang/Desktop/patch_off/Graphosoma_patch_2.off'\n",
    "patch3 = '/Users/xuzhaoyang/Desktop/patch_off/Graphosoma_patch_3.off'\n",
    "patch4 = '/Users/xuzhaoyang/Desktop/patch_off/Graphosoma_patch_4.off'\n",
    "patch5 = '/Users/xuzhaoyang/Desktop/patch_off/Graphosoma_patch_5.off'\n",
    "patch6 = '/Users/xuzhaoyang/Desktop/patch_off/patch6-1.off'\n",
    "patch7 = '/Users/xuzhaoyang/Desktop/patch_off/Graphosoma_patch_7.off'\n",
    "patch8 = '/Users/xuzhaoyang/Desktop/patch_off/Graphosoma_patch_8.off'\n",
    "patch9 = '/Users/xuzhaoyang/Desktop/patch_off/Graphosoma_patch_9.off'"
   ]
  },
  {
   "cell_type": "code",
   "execution_count": 28,
   "id": "a771eba2",
   "metadata": {},
   "outputs": [],
   "source": [
    "def read_off(path):\n",
    "\n",
    "    with open(path, 'r') as f:\n",
    "        a = f.read().split()\n",
    "        b = a[4:] # remove 'COFF' and other lines\n",
    "        \n",
    "        # list to array\n",
    "        file_float = []\n",
    "        for num in b:\n",
    "            file_float.append(float(num))\n",
    "        c = np.array(file_float)\n",
    "        d = c.reshape(-1,7)\n",
    "        \n",
    "        # only keep rgb lines, remove the index of vertex lines\n",
    "        ind = list(d[:,0]).index(3)\n",
    "        vertex = d[0:ind,0:3]\n",
    "        U = d[0:ind,3:6]            \n",
    "    return vertex,U"
   ]
  },
  {
   "cell_type": "code",
   "execution_count": 29,
   "id": "72fa9dba",
   "metadata": {},
   "outputs": [],
   "source": [
    "V1,U1 = read_off(patch1)\n",
    "V2,U2 = read_off(patch2)\n",
    "V3,U3 = read_off(patch3)\n",
    "V4,U4 = read_off(patch4)\n",
    "V5,U5 = read_off(patch5)\n",
    "V6,U6 = read_off(patch6)\n",
    "V7,U7 = read_off(patch7)\n",
    "V8,U8 = read_off(patch8)\n",
    "V9,U9 = read_off(patch9)\n",
    "V,U = read_off(whole)\n",
    "\n",
    "\n",
    "p1,_ = V1.shape\n",
    "p2,_ = V2.shape\n",
    "p3,_ = V3.shape\n",
    "p4,_ = V4.shape\n",
    "p5,_ = V5.shape\n",
    "p6,_ = V6.shape\n",
    "p7,_ = V7.shape\n",
    "p8,_ = V8.shape\n",
    "p9,_ = V9.shape\n",
    "\n",
    "p,_ = V.shape"
   ]
  },
  {
   "cell_type": "code",
   "execution_count": 30,
   "id": "a227fa12",
   "metadata": {},
   "outputs": [],
   "source": [
    "def findindex(V,Vi):\n",
    "    \n",
    "    index_sets = [np.argwhere(k==V) for k in Vi]\n",
    "    v_ind = [j[0,:][0] for j in index_sets]\n",
    "    return v_ind"
   ]
  },
  {
   "cell_type": "code",
   "execution_count": 31,
   "id": "5f7171cd",
   "metadata": {},
   "outputs": [],
   "source": [
    "v6_ind=findindex(V,V6)"
   ]
  },
  {
   "cell_type": "code",
   "execution_count": 32,
   "id": "f38873d3",
   "metadata": {},
   "outputs": [],
   "source": [
    "v1_ind=findindex(V,V1)"
   ]
  },
  {
   "cell_type": "code",
   "execution_count": 33,
   "id": "eef07248",
   "metadata": {},
   "outputs": [],
   "source": [
    "v2_ind=findindex(V,V2)"
   ]
  },
  {
   "cell_type": "code",
   "execution_count": 34,
   "id": "ebd8d63a",
   "metadata": {},
   "outputs": [],
   "source": [
    "v3_ind=findindex(V,V3)"
   ]
  },
  {
   "cell_type": "code",
   "execution_count": 35,
   "id": "81dfa972",
   "metadata": {},
   "outputs": [],
   "source": [
    "v4_ind=findindex(V,V4)\n",
    "v5_ind=findindex(V,V5)"
   ]
  },
  {
   "cell_type": "code",
   "execution_count": 36,
   "id": "94c74bc6",
   "metadata": {},
   "outputs": [],
   "source": [
    "v7_ind=findindex(V,V7)\n",
    "v8_ind=findindex(V,V8)\n",
    "v9_ind=findindex(V,V9)"
   ]
  },
  {
   "cell_type": "code",
   "execution_count": 37,
   "id": "7a5d7ec8",
   "metadata": {},
   "outputs": [],
   "source": [
    "v,f = igl.read_triangle_mesh(whole)\n",
    "L = igl.cotmatrix(v, f)"
   ]
  },
  {
   "cell_type": "code",
   "execution_count": 38,
   "id": "ea86b592",
   "metadata": {},
   "outputs": [],
   "source": [
    "R1 = U1[:,0]\n",
    "G1 = U1[:,1]\n",
    "B1 = U1[:,2]\n",
    "\n",
    "R2 = U2[:,0]\n",
    "G2 = U2[:,1]\n",
    "B2 = U2[:,2]\n",
    "\n",
    "R3 = U3[:,0]\n",
    "G3 = U3[:,1]\n",
    "B3 = U3[:,2]\n",
    "\n",
    "R4 = U4[:,0]\n",
    "G4 = U4[:,1]\n",
    "B4 = U4[:,2]\n",
    "\n",
    "R5 = U5[:,0]\n",
    "G5 = U5[:,1]\n",
    "B5 = U5[:,2]\n",
    "\n",
    "R6 = U6[:,0]\n",
    "G6 = U6[:,1]\n",
    "B6 = U6[:,2]\n",
    "\n",
    "R7 = U7[:,0]\n",
    "G7 = U7[:,1]\n",
    "B7 = U7[:,2]\n",
    "\n",
    "R8 = U8[:,0]\n",
    "G8 = U8[:,1]\n",
    "B8 = U8[:,2]\n",
    "\n",
    "R9 = U9[:,0]\n",
    "G9 = U9[:,1]\n",
    "B9 = U9[:,2]"
   ]
  },
  {
   "cell_type": "code",
   "execution_count": 39,
   "id": "cd315699",
   "metadata": {},
   "outputs": [],
   "source": [
    "X_all = np.zeros((p,p))\n",
    "for i in v1_ind:\n",
    "    X_all[i][i]=1 + X_all[i][i]\n",
    "    \n",
    "for i in v2_ind:\n",
    "    X_all[i][i]=1 + X_all[i][i]\n",
    "\n",
    "for i in v3_ind:\n",
    "    X_all[i][i]=1 + X_all[i][i]\n",
    "    \n",
    "for i in v4_ind:\n",
    "    X_all[i][i]=1 + X_all[i][i]\n",
    "    \n",
    "for i in v5_ind:\n",
    "    X_all[i][i]=1 + X_all[i][i]\n",
    "\n",
    "for i in v6_ind:\n",
    "    X_all[i][i]=1 + X_all[i][i]\n",
    "    \n",
    "for i in v7_ind:\n",
    "    X_all[i][i]=1 + X_all[i][i]\n",
    "    \n",
    "for i in v8_ind:\n",
    "    X_all[i][i]=1 + X_all[i][i]\n",
    "    \n",
    "for i in v9_ind:\n",
    "    X_all[i][i]=1 + X_all[i][i]"
   ]
  },
  {
   "cell_type": "code",
   "execution_count": 40,
   "id": "d09069b0",
   "metadata": {},
   "outputs": [],
   "source": [
    "def b(RGB1,RGB2,RGB3,RGB4,RGB5,RGB6,RGB7,RGB8,RGB9,v1_ind,v2_ind,v3_ind,v4_ind,v5_ind,v6_ind,v7_ind,v8_ind,v9_ind,p1,p2,p3,p4,\n",
    "      p5,p6,p7,p8,p9,p):\n",
    "    \n",
    "    X_u = np.zeros((p,p))\n",
    "    for i in range(0,p1):\n",
    "        ind = v1_ind[i]\n",
    "        X_u[ind][ind] = RGB1[i] + X_u[ind][ind]\n",
    "        \n",
    "    for i in range(0,p2):\n",
    "        ind = v2_ind[i]\n",
    "        X_u[ind][ind] = RGB2[i] + X_u[ind][ind]\n",
    "\n",
    "    for i in range(0,p3):\n",
    "        ind = v3_ind[i]\n",
    "        X_u[ind][ind] = RGB3[i] + X_u[ind][ind]\n",
    "        \n",
    "    for i in range(0,p4):\n",
    "        ind = v4_ind[i]\n",
    "        X_u[ind][ind] = RGB4[i] + X_u[ind][ind]  \n",
    "        \n",
    "    for i in range(0,p5):\n",
    "        ind = v5_ind[i]\n",
    "        X_u[ind][ind] = RGB5[i] + X_u[ind][ind]\n",
    "        \n",
    "    for i in range(0,p6):\n",
    "        ind = v6_ind[i]\n",
    "        X_u[ind][ind] = RGB6[i] + X_u[ind][ind]\n",
    " \n",
    "    for i in range(0,p7):\n",
    "        ind = v7_ind[i]\n",
    "        X_u[ind][ind] = RGB7[i] + X_u[ind][ind]  \n",
    "        \n",
    "    for i in range(0,p8):\n",
    "        ind = v8_ind[i]\n",
    "        X_u[ind][ind] = RGB8[i] + X_u[ind][ind]  \n",
    "        \n",
    "    for i in range(0,p9):\n",
    "        ind = v9_ind[i]\n",
    "        X_u[ind][ind] = RGB9[i] + X_u[ind][ind] \n",
    "    \n",
    "    b_uv = np.zeros(p)\n",
    "    \n",
    "    for i in range(0,p):\n",
    "        b_uv[i] = X_u[i][i]\n",
    "    \n",
    "    return b_uv"
   ]
  },
  {
   "cell_type": "code",
   "execution_count": 41,
   "id": "d3030484",
   "metadata": {},
   "outputs": [],
   "source": [
    "R_all = b(R1,R2,R3,R4,R5,R6,R7,R8,R9,v1_ind,v2_ind,v3_ind,v4_ind,v5_ind,v6_ind,v7_ind,v8_ind,v9_ind,p1,p2,p3,p4,p5,p6,p7,p8,p9,p)\n",
    "G_all = b(G1,G2,G3,G4,G5,G6,G7,G8,G9,v1_ind,v2_ind,v3_ind,v4_ind,v5_ind,v6_ind,v7_ind,v8_ind,v9_ind,p1,p2,p3,p4,p5,p6,p7,p8,p9,p)\n",
    "B_all = b(B1,B2,B3,B4,B5,B6,B7,B8,B9,v1_ind,v2_ind,v3_ind,v4_ind,v5_ind,v6_ind,v7_ind,v8_ind,v9_ind,p1,p2,p3,p4,p5,p6,p7,p8,p9,p)"
   ]
  },
  {
   "cell_type": "code",
   "execution_count": 42,
   "id": "b74d60f4",
   "metadata": {},
   "outputs": [],
   "source": [
    "RGB = np.vstack([R_all,G_all,B_all]).T"
   ]
  },
  {
   "cell_type": "code",
   "execution_count": 43,
   "id": "c9c3b915",
   "metadata": {},
   "outputs": [],
   "source": [
    "L = L.toarray()\n",
    "for i in range(0,p):\n",
    "    L[i][i]=X_all[i][i]-L[i][i]"
   ]
  },
  {
   "cell_type": "code",
   "execution_count": 44,
   "id": "e1c30573",
   "metadata": {},
   "outputs": [],
   "source": [
    "A = L\n",
    "x = spsolve(A,RGB)"
   ]
  },
  {
   "cell_type": "code",
   "execution_count": 45,
   "id": "53049fee",
   "metadata": {},
   "outputs": [],
   "source": [
    "_,U=read_off(whole)"
   ]
  },
  {
   "cell_type": "code",
   "execution_count": 46,
   "id": "ed15ba32",
   "metadata": {},
   "outputs": [
    {
     "data": {
      "application/vnd.jupyter.widget-view+json": {
       "model_id": "e9b18f33268c4091a405161d0620d2f9",
       "version_major": 2,
       "version_minor": 0
      },
      "text/plain": [
       "HBox(children=(Output(), Output()))"
      ]
     },
     "metadata": {},
     "output_type": "display_data"
    },
    {
     "data": {
      "application/vnd.jupyter.widget-view+json": {
       "model_id": "3e80f304b8744fa7a4545d9f534e8309",
       "version_major": 2,
       "version_minor": 0
      },
      "text/plain": [
       "HBox(children=(Output(), Output()))"
      ]
     },
     "metadata": {},
     "output_type": "display_data"
    },
    {
     "data": {
      "application/vnd.jupyter.widget-view+json": {
       "model_id": "9ed037f0ecc74c3fa2ed9a07c785ee55",
       "version_major": 2,
       "version_minor": 0
      },
      "text/plain": [
       "HBox(children=(Output(), Output()))"
      ]
     },
     "metadata": {},
     "output_type": "display_data"
    }
   ],
   "source": [
    "d = mp.subplot(v, f, c=v[:, 1], s=[3, 2, 0])\n",
    "mp.subplot(v, f, c=(U/255), s=[3, 2, 1], data=d)\n",
    "mp.subplot(v, f, c=(x/255), s=[3, 2, 2], data=d)"
   ]
  },
  {
   "cell_type": "code",
   "execution_count": null,
   "id": "b481accc",
   "metadata": {},
   "outputs": [],
   "source": []
  },
  {
   "cell_type": "code",
   "execution_count": null,
   "id": "920fcc24",
   "metadata": {},
   "outputs": [],
   "source": []
  }
 ],
 "metadata": {
  "kernelspec": {
   "display_name": "Python 3",
   "language": "python",
   "name": "python3"
  },
  "language_info": {
   "codemirror_mode": {
    "name": "ipython",
    "version": 3
   },
   "file_extension": ".py",
   "mimetype": "text/x-python",
   "name": "python",
   "nbconvert_exporter": "python",
   "pygments_lexer": "ipython3",
   "version": "3.8.8"
  }
 },
 "nbformat": 4,
 "nbformat_minor": 5
}
